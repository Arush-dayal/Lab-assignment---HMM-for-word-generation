{
  "cells": [
    {
      "cell_type": "code",
      "execution_count": 2,
      "metadata": {
        "id": "Q5HydhkSqTNj"
      },
      "outputs": [],
      "source": [
        "import torch\n",
        "import numpy as np\n",
        "class HMM(torch.nn.Module):\n",
        "  \"\"\"\n",
        "  Hidden Markov Model with discrete observations.\n",
        "  \"\"\"\n",
        "  def __init__(self, M, N):\n",
        "    super(HMM, self).__init__()\n",
        "    self.M = M # number of possible observations\n",
        "    self.N = N # number of states\n",
        "    # A\n",
        "    self.transition_model = TransitionModel(self.N)# TODO\n",
        "    # b(x_t)\n",
        "    self.emission_model = EmissionModel(self.N, self.M) # TODO\n",
        "    # pi\n",
        "    self.unnormalized_state_priors = torch.nn.Parameter(torch.randn(self.N)) # TODO\n",
        "    # use the GPU\n",
        "    self.is_cuda = torch.cuda.is_available()\n",
        "    if self.is_cuda: self.cuda()\n",
        "\n",
        "class TransitionModel(torch.nn.Module):\n",
        "  def __init__(self, N):\n",
        "    super(TransitionModel, self).__init__()# TODO\n",
        "    self.N = N\n",
        "    self.unnormalized_transition_matrix = torch.nn.Parameter(torch.randn(N,N)) # TODO\n",
        "\n",
        "class EmissionModel(torch.nn.Module):\n",
        "  def __init__(self, N, M):\n",
        "    super(EmissionModel, self).__init__()\n",
        "    self.N = N\n",
        "    self.M = M # TODO\n",
        "    self.unnormalized_emission_matrix = torch.nn.Parameter(torch.randn(N,M)) # TODO"
      ]
    },
    {
      "cell_type": "code",
      "execution_count": 3,
      "metadata": {
        "id": "ewF6-uQ2eDPV"
      },
      "outputs": [],
      "source": [
        "def sample(self, T=10):\n",
        "  state_priors = torch.nn.functional.softmax(self.unnormalized_state_priors, dim=0)\n",
        "  transition_matrix = torch.nn.functional.softmax(self.transition_model.unnormalized_transition_matrix, dim=0)\n",
        "  emission_matrix = torch.nn.functional.softmax(self.emission_model.unnormalized_emission_matrix, dim=1)\n",
        "  # sample initial state\n",
        "  z_t = torch.distributions.categorical.Categorical(state_priors).sample().item()\n",
        "  z = []; x = []\n",
        "  z.append(z_t)\n",
        "  for t in range(0,T):\n",
        "  # sample emission\n",
        "    x_t = torch.distributions.categorical.Categorical(emission_matrix[z_t]).sample().item() # TODO\n",
        "    x.append(x_t)\n",
        "\n",
        "  # sample transition\n",
        "    z_t = torch.distributions.categorical.Categorical(transition_matrix[:,z_t]).sample().item() # TODO\n",
        "    if t < T-1: z.append(z_t)\n",
        "\n",
        "  return x, z\n",
        "# Add the sampling method to our HMM class\n",
        "HMM.sample = sample\n"
      ]
    },
    {
      "cell_type": "code",
      "execution_count": 4,
      "metadata": {
        "colab": {
          "base_uri": "https://localhost:8080/"
        },
        "id": "eyR7yv_3sBG3",
        "outputId": "6e0473fa-1761-4646-fb82-f98a7f6a5a53"
      },
      "outputs": [
        {
          "name": "stdout",
          "output_type": "stream",
          "text": [
            "State priors: tensor([0.6225, 0.3775], device='cuda:0')\n",
            "Emission matrix: tensor([[0.0000, 0.1355, 0.0329, 0.0752, 0.0000, 0.0882, 0.1094, 0.0136, 0.0000,\n",
            "         0.0395, 0.0262, 0.0212, 0.1066, 0.0663, 0.0000, 0.0634, 0.0273, 0.0192,\n",
            "         0.0178, 0.0098, 0.0000, 0.0057, 0.0080, 0.1089, 0.0140, 0.0112],\n",
            "        [0.0524, 0.0000, 0.0000, 0.0000, 0.0744, 0.0000, 0.0000, 0.0000, 0.0629,\n",
            "         0.0000, 0.0000, 0.0000, 0.0000, 0.0000, 0.1145, 0.0000, 0.0000, 0.0000,\n",
            "         0.0000, 0.0000, 0.6958, 0.0000, 0.0000, 0.0000, 0.0000, 0.0000]],\n",
            "       device='cuda:0')\n",
            "Transition matrix: tensor([[0., 1.],\n",
            "        [1., 0.]], device='cuda:0')\n"
          ]
        }
      ],
      "source": [
        "import string\n",
        "alphabet = string.ascii_lowercase\n",
        "\n",
        "def encode(s):\n",
        "  \"\"\"\n",
        "  Convert a string into a list of integers\n",
        "  \"\"\"\n",
        "  x = [alphabet.index(ss) for ss in s]\n",
        "  return x\n",
        "\n",
        "def decode(x):\n",
        "  \"\"\"\n",
        "  Convert list of ints to string\n",
        "  \"\"\"\n",
        "  s = \"\".join([alphabet[xx] for xx in x])\n",
        "  return s\n",
        "\n",
        "# Initialize the model\n",
        "model = HMM(M=len(alphabet), N=2)\n",
        "\n",
        "# Hard-wiring the parameters!\n",
        "# Let state 0 = consonant, state 1 = vowel\n",
        "for p in model.parameters():\n",
        "    p.requires_grad = False # needed to do lines below\n",
        "model.unnormalized_state_priors[0] = 0.    # Let's start with a consonant more frequently\n",
        "model.unnormalized_state_priors[1] = -0.5\n",
        "print(\"State priors:\", torch.nn.functional.softmax(model.unnormalized_state_priors, dim=0))\n",
        "\n",
        "# In state 0, only allow consonants; in state 1, only allow vowels\n",
        "vowel_indices = torch.tensor([alphabet.index(letter) for letter in \"aeiou\"])\n",
        "consonant_indices = torch.tensor([alphabet.index(letter) for letter in \"bcdfghjklmnpqrstvwxyz\"])\n",
        "model.emission_model.unnormalized_emission_matrix[0, vowel_indices] = -np.inf\n",
        "model.emission_model.unnormalized_emission_matrix[1, consonant_indices] = -np.inf\n",
        "print(\"Emission matrix:\", torch.nn.functional.softmax(model.emission_model.unnormalized_emission_matrix, dim=1))\n",
        "\n",
        "# Only allow vowel -> consonant and consonant -> vowel\n",
        "model.transition_model.unnormalized_transition_matrix[0,0] = -np.inf  # consonant -> consonant\n",
        "model.transition_model.unnormalized_transition_matrix[0,1] = 0.       # vowel -> consonant\n",
        "model.transition_model.unnormalized_transition_matrix[1,0] = 0.       # consonant -> vowel\n",
        "model.transition_model.unnormalized_transition_matrix[1,1] = -np.inf  # vowel -> vowel\n",
        "print(\"Transition matrix:\", torch.nn.functional.softmax(model.transition_model.unnormalized_transition_matrix, dim=0))\n",
        "\n"
      ]
    },
    {
      "cell_type": "code",
      "execution_count": 5,
      "metadata": {
        "colab": {
          "base_uri": "https://localhost:8080/"
        },
        "id": "55Qv2n4NdMDA",
        "outputId": "fbced350-3912-454a-bab8-56516db0d06a"
      },
      "outputs": [
        {
          "name": "stdout",
          "output_type": "stream",
          "text": [
            "x: gupux\n",
            "z: [0, 1, 0, 1, 0]\n",
            "x: jumuj\n",
            "z: [0, 1, 0, 1, 0]\n",
            "x: dequn\n",
            "z: [0, 1, 0, 1, 0]\n",
            "x: modun\n",
            "z: [0, 1, 0, 1, 0]\n"
          ]
        }
      ],
      "source": [
        "# Sample some outputs\n",
        "for _ in range(4):\n",
        "  sampled_x, sampled_z = model.sample(T=5)\n",
        "  print(\"x:\", decode(sampled_x))\n",
        "  print(\"z:\", sampled_z)"
      ]
    },
    {
      "cell_type": "code",
      "execution_count": 6,
      "metadata": {
        "id": "BtO0LccQdcQ8"
      },
      "outputs": [],
      "source": [
        "def HMM_forward(self, x, T):\n",
        "  \"\"\"\n",
        "  x : IntTensor of shape (batch size, T_max)\n",
        "  T : IntTensor of shape (batch size)\n",
        "  Compute log p(x) for each example in the batch.\n",
        "  T = length of each example\n",
        "  \"\"\"\n",
        "  if self.is_cuda:\n",
        "    x = x.cuda()\n",
        "    T = T.cuda()\n",
        "\n",
        "  batch_size = x.shape[0]; T_max = x.shape[1]\n",
        "  log_state_priors = torch.nn.functional.log_softmax(self.unnormalized_state_priors, dim=0) # TODO\n",
        "  log_alpha = torch.zeros(batch_size, T_max, self.N)# TODO\n",
        "  if self.is_cuda: log_alpha = log_alpha.cuda()\n",
        "\n",
        "  log_alpha[:, 0, :] = self.emission_model(x[:,0]) + log_state_priors\n",
        "  for t in range(1, T_max):\n",
        "    log_alpha[:, t, :] = self.emission_model(x[:,t]) + self.transition_model(log_alpha[:, t-1, :])\n",
        "\n",
        "  # Select the sum for the final timestep (each x may have different length).\n",
        "  log_sums = log_alpha.logsumexp(dim=2) # TODO # HINT: Use logexpsum\n",
        "  log_probs = torch.gather(log_sums, 1, T.view(-1,1) - 1)\n",
        "  return log_probs\n"
      ]
    },
    {
      "cell_type": "code",
      "execution_count": 7,
      "metadata": {
        "id": "l1LQRV4UjHT4"
      },
      "outputs": [],
      "source": [
        "def emission_model_forward(self, x_t):\n",
        "  log_emission_matrix = torch.nn.functional.log_softmax(self.unnormalized_emission_matrix, dim=1) # TODO\n",
        "  out = log_emission_matrix[:, x_t].transpose(0,1)\n",
        "  return out\n",
        "\n",
        "def transition_model_forward(self, log_alpha):\n",
        "  \"\"\"\n",
        "  log_alpha : Tensor of shape (batch size, N)\n",
        "  Multiply previous timestep's alphas by transition matrix (in log\n",
        "  domain)\n",
        "  \"\"\"\n",
        "  log_transition_matrix = torch.nn.functional.log_softmax(self.unnormalized_transition_matrix, dim=0) # TODO\n",
        "  # Matrix multiplication in the log domain\n",
        "  out = log_domain_matmul(log_transition_matrix, log_alpha.transpose(0,1)).transpose(0,1)\n",
        "  return out\n",
        "\n",
        "def log_domain_matmul(log_A, log_B):\n",
        "  \"\"\"\n",
        "  log_A : m x n\n",
        "  log_B : n x p\n",
        "  output : m x p matrix\n",
        "  Normally, a matrix multiplication\n",
        "  computes out_{i,j} = sum_k A_{i,k} x B_{k,j}\n",
        "  A log domain matrix multiplication\n",
        "  computes out_{i,j} = logsumexp_k log_A_{i,k} + log_B_{k,j}\n",
        "  \"\"\"\n",
        "  m = log_A.shape[0]\n",
        "  n = log_A.shape[1]\n",
        "  p = log_B.shape[1]\n",
        "  # log_A_expanded = torch.stack([log_A] * p, dim=2)\n",
        "  # log_B_expanded = torch.stack([log_B] * m, dim=0)\n",
        "  # fix for PyTorch > 1.5 by egaznep on Github:\n",
        "  log_A_expanded = torch.reshape(log_A, (m,n,1)) # TODO\n",
        "  log_B_expanded = torch.reshape(log_B, (1,n,p)) # TODO\n",
        "  elementwise_sum = log_A_expanded + log_B_expanded # TODO\n",
        "  out = torch.logsumexp(elementwise_sum, dim=1) # TODO\n",
        "  return out\n",
        "\n",
        "TransitionModel.forward = transition_model_forward\n",
        "EmissionModel.forward = emission_model_forward\n",
        "HMM.forward = HMM_forward\n"
      ]
    },
    {
      "cell_type": "code",
      "execution_count": 8,
      "metadata": {
        "colab": {
          "base_uri": "https://localhost:8080/"
        },
        "id": "40tcyPVHl7aC",
        "outputId": "8d2b61f3-556a-4e5a-b758-47077236f67d"
      },
      "outputs": [
        {
          "name": "stdout",
          "output_type": "stream",
          "text": [
            "tensor([[-11.4655]], device='cuda:0')\n",
            "tensor([[-8.8687],\n",
            "        [   -inf]], device='cuda:0')\n"
          ]
        }
      ],
      "source": [
        "x = torch.stack( [torch.tensor(encode(\"cat\"))] )\n",
        "T = torch.tensor([3])\n",
        "print(model.forward(x, T))\n",
        "x = torch.stack( [torch.tensor(encode(\"aba\")),\n",
        "torch.tensor(encode(\"abb\"))] )\n",
        "T = torch.tensor([3,3])\n",
        "print(model.forward(x, T))"
      ]
    },
    {
      "cell_type": "code",
      "execution_count": 9,
      "metadata": {
        "id": "nJ9Tv4YhnTJ9"
      },
      "outputs": [],
      "source": [
        "def viterbi(self, x, T):\n",
        "  \"\"\"\n",
        "  x : IntTensor of shape (batch size, T_max)\n",
        "  T : IntTensor of shape (batch size)\n",
        "  Find argmax_z log p(x|z) for each (x) in the batch.\n",
        "  \"\"\"\n",
        "  if self.is_cuda:\n",
        "    x = x.cuda()\n",
        "    T = T.cuda()\n",
        "\n",
        "  batch_size = x.shape[0]; T_max = x.shape[1]\n",
        "  log_state_priors = torch.nn.functional.log_softmax(self.unnormalized_state_priors, dim=0) # TODO\n",
        "  log_delta = torch.zeros(batch_size, T_max, self.N).float() # TODO\n",
        "  psi = torch.zeros(batch_size, T_max, self.N).long() # TODO\n",
        "\n",
        "  if self.is_cuda:\n",
        "    log_delta = log_delta.cuda()\n",
        "    psi = psi.cuda()\n",
        "\n",
        "  log_delta[:, 0, :] = self.emission_model(x[:,0]) + log_state_priors# TODO: Use emission model and log state priors\n",
        "  for t in range(1, T_max):\n",
        "    max_val, argmax_val = self.transition_model.maxmul(log_delta[:, t-1, :])\n",
        "    log_delta[:, t, :] = self.emission_model(x[:,t]) + max_val\n",
        "    psi[:, t, :] = argmax_val\n",
        "  # Get the log probability of the best path\n",
        "\n",
        "  log_max = log_delta.max(dim=2)[0]\n",
        "  best_path_scores = torch.gather(log_max, 1, T.view(-1,1) - 1) # TODO\n",
        "  # This next part is a bit tricky to parallelize across the batch,\n",
        "  # so we will do it separately for each example.\n",
        "  z_star = []\n",
        "  for i in range(0, batch_size):\n",
        "    z_star_i = [ log_delta[i, T[i] - 1, :].max(dim=0)[1].item()] # TODO\n",
        "\n",
        "    for t in range(T[i] - 1, 0, -1):\n",
        "      z_t = psi[i, t, z_star_i[0]].item()\n",
        "      z_star_i.insert(0, z_t)\n",
        "\n",
        "    z_star.append(z_star_i)\n",
        "  return z_star, best_path_scores # return both the best path and its log probability"
      ]
    },
    {
      "cell_type": "code",
      "execution_count": 10,
      "metadata": {
        "id": "8Ey5Vr9WqE4F"
      },
      "outputs": [],
      "source": [
        "def transition_model_maxmul(self, log_alpha):\n",
        "\n",
        "  log_transition_matrix = torch.nn.functional.log_softmax(self.unnormalized_transition_matrix, dim=0) # TODO\n",
        "  out1, out2 = maxmul(log_transition_matrix, log_alpha.transpose(0,1)) # TODO\n",
        "  return out1.transpose(0,1), out2.transpose(0,1)\n",
        "\n",
        "def maxmul(log_A, log_B):\n",
        "  \"\"\"\n",
        "  log_A : m x n\n",
        "  log_B : n x p\n",
        "  output : m x p matrix\n",
        "  Similar to the log domain matrix multiplication,\n",
        "  this computes out_{i,j} = max_k log_A_{i,k} + log_B_{k,j}\n",
        "  \"\"\"\n",
        "  m = log_A.shape[0]\n",
        "  n = log_A.shape[1]\n",
        "  p = log_B.shape[1]\n",
        "  log_A_expanded = torch.stack([log_A] * p, dim=2) # TODO\n",
        "  log_B_expanded = torch.stack([log_B] * m, dim=0) # TODO\n",
        "  elementwise_sum = log_A_expanded + log_B_expanded # TODO\n",
        "  out1,out2 = torch.max(elementwise_sum, dim=1)\n",
        "  return out1,out2\n",
        "\n",
        "TransitionModel.maxmul = transition_model_maxmul\n",
        "HMM.viterbi = viterbi"
      ]
    },
    {
      "cell_type": "code",
      "execution_count": 11,
      "metadata": {
        "colab": {
          "base_uri": "https://localhost:8080/"
        },
        "id": "jbG5wqUTr7H7",
        "outputId": "0fa7bb57-db90-4793-d05f-d3dd1b363006"
      },
      "outputs": [
        {
          "name": "stdout",
          "output_type": "stream",
          "text": [
            "([[1, 0, 1], [1, 0, 0]], tensor([[-8.8687],\n",
            "        [   -inf]], device='cuda:0'))\n"
          ]
        }
      ],
      "source": [
        "x = torch.stack( [torch.tensor(encode(\"aba\")),\n",
        "torch.tensor(encode(\"abb\"))] )\n",
        "T = torch.tensor([3,3])\n",
        "print(model.viterbi(x, T))"
      ]
    },
    {
      "cell_type": "code",
      "execution_count": 12,
      "metadata": {
        "colab": {
          "base_uri": "https://localhost:8080/"
        },
        "id": "zFMIQBL-scv3",
        "outputId": "9c3ebed5-c6ae-4269-bb7f-ce4102b73916"
      },
      "outputs": [
        {
          "name": "stdout",
          "output_type": "stream",
          "text": [
            "tensor([[-8.8687],\n",
            "        [   -inf]], device='cuda:0')\n",
            "tensor([[-8.8687],\n",
            "        [   -inf]], device='cuda:0')\n"
          ]
        }
      ],
      "source": [
        "print(model.forward(x, T))\n",
        "print(model.viterbi(x, T)[1])"
      ]
    },
    {
      "cell_type": "code",
      "execution_count": 13,
      "metadata": {
        "colab": {
          "base_uri": "https://localhost:8080/"
        },
        "id": "8h7YyRv_sgK2",
        "outputId": "313b7609-304b-42b6-a1b2-f6f61f18c664"
      },
      "outputs": [
        {
          "name": "stdout",
          "output_type": "stream",
          "text": [
            "tensor(3.)\n",
            "tensor(3.4076)\n"
          ]
        }
      ],
      "source": [
        "x = torch.tensor([1., 2., 3.])\n",
        "print(x.max(dim=0)[0])\n",
        "print(x.logsumexp(dim=0))"
      ]
    },
    {
      "cell_type": "code",
      "execution_count": 14,
      "metadata": {
        "id": "KqiFobGHwdzc"
      },
      "outputs": [],
      "source": [
        "import torch.utils.data\n",
        "from collections import Counter\n",
        "from sklearn.model_selection import train_test_split\n",
        "\n",
        "class TextDataset(torch.utils.data.Dataset):\n",
        "  def __init__(self, lines):\n",
        "    self.lines = lines # list of strings\n",
        "    collate = Collate() # function for generating a minibatch from strings\n",
        "    self.loader = torch.utils.data.DataLoader(self, batch_size=1024, num_workers=1, shuffle=True, collate_fn=collate)\n",
        "\n",
        "  def __len__(self):\n",
        "    return len(self.lines)\n",
        "\n",
        "  def __getitem__(self, idx):\n",
        "    line = self.lines[idx].lstrip(\" \").rstrip(\"\\n\").rstrip(\" \").rstrip(\"\\n\")\n",
        "    return line\n",
        "\n",
        "class Collate:\n",
        "  def __init__(self):\n",
        "    pass\n",
        "\n",
        "  def __call__(self, batch):\n",
        "    \"\"\"\n",
        "    Returns a minibatch of strings, padded to have the same length.\n",
        "    \"\"\"\n",
        "    x = []\n",
        "    batch_size = len(batch)\n",
        "    for index in range(batch_size):\n",
        "      x_ = batch[index]\n",
        "\n",
        "      # convert letters to integers\n",
        "      x.append(encode(x_))\n",
        "\n",
        "    # pad all sequences with 0 to have same length\n",
        "    x_lengths = [len(x_) for x_ in x]\n",
        "    T = max(x_lengths)\n",
        "    for index in range(batch_size):\n",
        "      x[index] += [0] * (T - len(x[index]))\n",
        "      x[index] = torch.tensor(x[index])\n",
        "\n",
        "    # stack into single tensor\n",
        "    x = torch.stack(x)\n",
        "    x_lengths = torch.tensor(x_lengths)\n",
        "    return (x,x_lengths)"
      ]
    },
    {
      "cell_type": "code",
      "execution_count": 15,
      "metadata": {
        "colab": {
          "base_uri": "https://localhost:8080/"
        },
        "id": "LTjcMtlxta-h",
        "outputId": "a05d2cb0-ae5c-4e89-dd7c-db28e9ce90a9"
      },
      "outputs": [
        {
          "name": "stdout",
          "output_type": "stream",
          "text": [
            "--2023-11-05 23:05:24--  https://raw.githubusercontent.com/lorenlugosch/pytorch_HMM/master/data/train/training.txt\n",
            "Resolving raw.githubusercontent.com (raw.githubusercontent.com)... 185.199.108.133, 185.199.109.133, 185.199.110.133, ...\n",
            "Connecting to raw.githubusercontent.com (raw.githubusercontent.com)|185.199.108.133|:443... connected.\n",
            "HTTP request sent, awaiting response... 200 OK\n",
            "Length: 2493109 (2.4M) [text/plain]\n",
            "Saving to: ‘training.txt’\n",
            "\n",
            "training.txt        100%[===================>]   2.38M  --.-KB/s    in 0.05s   \n",
            "\n",
            "2023-11-05 23:05:24 (47.3 MB/s) - ‘training.txt’ saved [2493109/2493109]\n",
            "\n"
          ]
        }
      ],
      "source": [
        "!wget https://raw.githubusercontent.com/lorenlugosch/pytorch_HMM/master/data/train/training.txt"
      ]
    },
    {
      "cell_type": "code",
      "execution_count": 16,
      "metadata": {
        "id": "L38bihUktpfj"
      },
      "outputs": [],
      "source": [
        "filename = \"training.txt\"\n",
        "\n",
        "with open(filename, \"r\") as f:\n",
        "  lines = f.readlines() # each line of lines will have one word\n",
        "\n",
        "alphabet = list(Counter((\"\".join(lines))).keys())\n",
        "train_lines, valid_lines = train_test_split(lines, test_size=0.1, random_state=42)\n",
        "train_dataset = TextDataset(train_lines)\n",
        "valid_dataset = TextDataset(valid_lines)\n",
        "\n",
        "M = len(alphabet)"
      ]
    },
    {
      "cell_type": "code",
      "execution_count": 17,
      "metadata": {
        "id": "iypy_neX9cpq"
      },
      "outputs": [],
      "source": [
        "from tqdm import tqdm # for displaying progress bar\n",
        "\n",
        "class Trainer:\n",
        "  def __init__(self, model, lr):\n",
        "    self.model = model\n",
        "    self.lr = lr\n",
        "    self.optimizer = torch.optim.Adam(model.parameters(), lr=self.lr, weight_decay=0.00001)\n",
        "\n",
        "  def train(self, dataset):\n",
        "    train_loss = 0\n",
        "    num_samples = 0\n",
        "    self.model.train()\n",
        "    print_interval = 50\n",
        "    for idx, batch in enumerate(tqdm(dataset.loader)):\n",
        "      x,T = batch\n",
        "      batch_size = len(x)\n",
        "      num_samples += batch_size\n",
        "      log_probs = self.model(x,T)\n",
        "      loss = -log_probs.mean()\n",
        "      self.optimizer.zero_grad()\n",
        "      loss.backward()\n",
        "      self.optimizer.step()\n",
        "      train_loss += loss.cpu().data.numpy().item() * batch_size\n",
        "      if idx % print_interval == 0:\n",
        "        print(\"loss:\", loss.item())\n",
        "        for _ in range(5):\n",
        "          sampled_x, sampled_z = self.model.sample()\n",
        "          print(decode(sampled_x))\n",
        "          print(sampled_z)\n",
        "    train_loss /= num_samples\n",
        "    return train_loss\n",
        "\n",
        "  def test(self, dataset):\n",
        "    test_loss = 0\n",
        "    num_samples = 0\n",
        "    self.model.eval()\n",
        "    print_interval = 50\n",
        "    for idx, batch in enumerate(dataset.loader):\n",
        "      x,T = batch\n",
        "      batch_size = len(x)\n",
        "      num_samples += batch_size\n",
        "      log_probs = self.model(x,T)\n",
        "      loss = -log_probs.mean()\n",
        "      test_loss += loss.cpu().data.numpy().item() * batch_size\n",
        "      if idx % print_interval == 0:\n",
        "        print(\"loss:\", loss.item())\n",
        "        sampled_x, sampled_z = self.model.sample()\n",
        "        print(decode(sampled_x))\n",
        "        print(sampled_z)\n",
        "    test_loss /= num_samples\n",
        "    return test_loss"
      ]
    },
    {
      "cell_type": "code",
      "execution_count": 18,
      "metadata": {
        "colab": {
          "base_uri": "https://localhost:8080/"
        },
        "id": "1-NGIK1Q9g2C",
        "outputId": "6f2750a4-23b3-403d-8baf-e85b450f1171"
      },
      "outputs": [
        {
          "name": "stdout",
          "output_type": "stream",
          "text": [
            "========= Epoch 1 of 10 =========\n"
          ]
        },
        {
          "name": "stderr",
          "output_type": "stream",
          "text": [
            "\r  0%|          | 0/208 [00:00<?, ?it/s]"
          ]
        },
        {
          "name": "stdout",
          "output_type": "stream",
          "text": [
            "loss: 37.76902770996094\n",
            "HFahlsHEWw\n",
            "[48, 42, 17, 4, 16, 60, 12, 13, 16, 24]\n"
          ]
        },
        {
          "name": "stderr",
          "output_type": "stream",
          "text": [
            "  1%|▏         | 3/208 [00:00<00:22,  8.92it/s]"
          ]
        },
        {
          "name": "stdout",
          "output_type": "stream",
          "text": [
            "ZjMujGobKo\n",
            "[26, 54, 27, 56, 58, 22, 18, 9, 34, 34]\n",
            "fZvVRKLUoh\n",
            "[33, 5, 9, 35, 28, 51, 27, 56, 48, 51]\n",
            "VX-kpAqiPZ\n",
            "[18, 57, 59, 3, 47, 15, 45, 10, 3, 1]\n",
            "BNWFJ-AaOe\n",
            "[25, 37, 60, 45, 6, 49, 15, 31, 29, 15]\n"
          ]
        },
        {
          "name": "stderr",
          "output_type": "stream",
          "text": [
            " 25%|██▌       | 53/208 [00:03<00:10, 15.35it/s]"
          ]
        },
        {
          "name": "stdout",
          "output_type": "stream",
          "text": [
            "loss: 33.40502166748047\n",
            "fDSofenlnw\n",
            "[50, 35, 18, 33, 40, 10, 1, 6, 23, 19]\n",
            "utfDLmMbYH\n",
            "[10, 54, 0, 44, 39, 22, 22, 22, 43, 22]\n",
            "ge-DVdxhlE\n",
            "[13, 40, 63, 32, 20, 45, 36, 7, 25, 21]\n",
            "iPBDiYIeEJ\n",
            "[23, 32, 45, 44, 10, 30, 41, 6, 42, 7]\n",
            "FlbPVZZFcQ\n",
            "[41, 28, 51, 45, 44, 8, 18, 0, 58, 15]\n"
          ]
        },
        {
          "name": "stderr",
          "output_type": "stream",
          "text": [
            " 50%|████▉     | 103/208 [00:06<00:07, 13.17it/s]"
          ]
        },
        {
          "name": "stdout",
          "output_type": "stream",
          "text": [
            "loss: 30.182662963867188\n",
            "mlozrcbAsd\n",
            "[37, 0, 40, 40, 58, 31, 0, 27, 56, 57]\n",
            "broAr-anIm\n",
            "[10, 42, 23, 48, 36, 33, 40, 56, 59, 35]\n",
            "SwdcydoUic\n",
            "[17, 14, 53, 56, 47, 0, 44, 55, 51, 58]\n",
            "TEEulkttdp\n",
            "[53, 35, 32, 57, 54, 9, 27, 56, 48, 29]\n",
            "trtegrgzez\n",
            "[26, 42, 20, 1, 40, 58, 21, 0, 53, 0]\n"
          ]
        },
        {
          "name": "stderr",
          "output_type": "stream",
          "text": [
            " 74%|███████▎  | 153/208 [00:10<00:03, 15.52it/s]"
          ]
        },
        {
          "name": "stdout",
          "output_type": "stream",
          "text": [
            "loss: 28.436504364013672\n",
            "dsdoUgclki\n",
            "[41, 35, 49, 18, 36, 35, 58, 38, 10, 10]\n",
            "lBwcntrlKg\n",
            "[54, 59, 37, 7, 56, 48, 33, 6, 58, 20]\n",
            "bonlcagyzZ\n",
            "[50, 23, 18, 0, 7, 53, 0, 47, 57, 59]\n",
            "fcbisonrtM\n",
            "[50, 62, 41, 10, 54, 48, 51, 58, 20, 51]\n",
            "byVeaJlYua\n",
            "[8, 21, 50, 40, 56, 41, 28, 19, 45, 53]\n"
          ]
        },
        {
          "name": "stderr",
          "output_type": "stream",
          "text": [
            " 98%|█████████▊| 203/208 [00:13<00:00, 15.93it/s]"
          ]
        },
        {
          "name": "stdout",
          "output_type": "stream",
          "text": [
            "loss: 26.966365814208984\n",
            "rksrIiauti\n",
            "[58, 17, 54, 54, 20, 51, 58, 17, 59, 23]\n",
            "oDyweltdau\n",
            "[10, 1, 45, 8, 17, 0, 44, 0, 38, 56]\n",
            "mmtedeguAc\n",
            "[26, 5, 10, 1, 15, 51, 31, 3, 62, 58]\n",
            "ciyeilsniy\n",
            "[7, 51, 7, 46, 36, 0, 53, 20, 51, 45]\n",
            "msthvniara\n",
            "[3, 56, 48, 59, 44, 56, 58, 20, 51, 1]\n"
          ]
        },
        {
          "name": "stderr",
          "output_type": "stream",
          "text": [
            "100%|██████████| 208/208 [00:13<00:00, 15.63it/s]\n"
          ]
        },
        {
          "name": "stdout",
          "output_type": "stream",
          "text": [
            "loss: 26.964330673217773\n",
            "Nirtidtlky\n",
            "[60, 10, 6, 20, 51, 58, 36, 0, 45, 45]\n",
            "========= Results: epoch 1 of 10 =========\n",
            "train loss: 30.84| valid loss: 26.63\n",
            "\n",
            "========= Epoch 2 of 10 =========\n"
          ]
        },
        {
          "name": "stderr",
          "output_type": "stream",
          "text": [
            "  0%|          | 1/208 [00:00<00:40,  5.16it/s]"
          ]
        },
        {
          "name": "stdout",
          "output_type": "stream",
          "text": [
            "loss: 26.349462509155273\n",
            "siHamoSeyh\n",
            "[33, 10, 1, 23, 27, 35, 58, 17, 54, 59]\n",
            "fMsahalrat\n",
            "[50, 23, 22, 53, 59, 17, 0, 58, 53, 20]\n",
            "cesmtiXste\n",
            "[57, 17, 54, 22, 20, 23, 1, 53, 20, 51]\n",
            "vesgamiong\n",
            "[58, 17, 54, 20, 44, 58, 51, 23, 56, 8]\n",
            "balCtirVCU\n",
            "[55, 44, 0, 45, 29, 32, 48, 24, 13, 18]\n"
          ]
        },
        {
          "name": "stderr",
          "output_type": "stream",
          "text": [
            " 25%|██▍       | 51/208 [00:03<00:12, 12.52it/s]"
          ]
        },
        {
          "name": "stdout",
          "output_type": "stream",
          "text": [
            "loss: 25.460973739624023\n",
            "Lapisspnun\n",
            "[1, 44, 20, 10, 54, 27, 29, 60, 53, 0]\n",
            "poracVraly\n",
            "[33, 40, 22, 53, 20, 23, 18, 36, 0, 45]\n",
            "uaTilokedb\n",
            "[3, 56, 34, 36, 0, 44, 58, 17, 58, 36]\n",
            "mafunIcuiw\n",
            "[33, 44, 33, 44, 56, 17, 54, 14, 23, 56]\n",
            "heJoteriZo\n",
            "[59, 17, 55, 44, 48, 17, 32, 51, 1, 53]\n"
          ]
        },
        {
          "name": "stderr",
          "output_type": "stream",
          "text": [
            " 50%|████▉     | 103/208 [00:06<00:06, 15.50it/s]"
          ]
        },
        {
          "name": "stdout",
          "output_type": "stream",
          "text": [
            "loss: 25.167308807373047\n",
            "chocraoede\n",
            "[1, 59, 44, 29, 60, 44, 58, 17, 58, 17]\n",
            "agpelusraY\n",
            "[26, 42, 21, 36, 0, 10, 54, 22, 53, 56]\n",
            "ossilensom\n",
            "[3, 56, 48, 36, 0, 53, 56, 41, 23, 27]\n",
            "sslaphepae\n",
            "[54, 48, 6, 23, 29, 60, 17, 33, 17, 35]\n",
            "crsMvitrvo\n",
            "[29, 60, 40, 26, 58, 51, 48, 32, 58, 17]\n"
          ]
        },
        {
          "name": "stderr",
          "output_type": "stream",
          "text": [
            " 74%|███████▎  | 153/208 [00:09<00:03, 15.13it/s]"
          ]
        },
        {
          "name": "stdout",
          "output_type": "stream",
          "text": [
            "loss: 24.99958610534668\n",
            "thJrfimagu\n",
            "[29, 60, 17, 32, 58, 51, 58, 23, 41, 42]\n",
            "warasmerdy\n",
            "[26, 42, 33, 10, 54, 22, 17, 32, 58, 36]\n",
            "otusbatiam\n",
            "[44, 29, 62, 54, 22, 53, 20, 51, 53, 20]\n",
            "raierswgin\n",
            "[33, 44, 27, 17, 32, 22, 53, 8, 10, 54]\n",
            "jyderphica\n",
            "[33, 40, 58, 17, 32, 29, 60, 23, 22, 53]\n"
          ]
        },
        {
          "name": "stderr",
          "output_type": "stream",
          "text": [
            " 98%|█████████▊| 203/208 [00:12<00:00, 15.37it/s]"
          ]
        },
        {
          "name": "stdout",
          "output_type": "stream",
          "text": [
            "loss: 24.748218536376953\n",
            "bVsaerteco\n",
            "[26, 17, 54, 20, 17, 32, 20, 51, 1, 23]\n",
            "fidezyalis\n",
            "[33, 10, 58, 17, 58, 36, 53, 20, 51, 54]\n",
            "unveuinonY\n",
            "[3, 56, 58, 17, 9, 51, 1, 23, 56, 8]\n",
            "snfebYMevi\n",
            "[3, 56, 21, 36, 0, 10, 27, 17, 58, 51]\n",
            "sttlasener\n",
            "[54, 54, 48, 60, 17, 33, 17, 58, 17, 32]\n"
          ]
        },
        {
          "name": "stderr",
          "output_type": "stream",
          "text": [
            "100%|██████████| 208/208 [00:13<00:00, 15.76it/s]\n"
          ]
        },
        {
          "name": "stdout",
          "output_type": "stream",
          "text": [
            "loss: 24.681243896484375\n",
            "elttwecmar\n",
            "[31, 0, 45, 20, 55, 35, 58, 30, 57, 60]\n",
            "========= Results: epoch 2 of 10 =========\n",
            "train loss: 25.19| valid loss: 24.51\n",
            "\n",
            "========= Epoch 3 of 10 =========\n"
          ]
        },
        {
          "name": "stderr",
          "output_type": "stream",
          "text": [
            "\r  0%|          | 0/208 [00:00<?, ?it/s]"
          ]
        },
        {
          "name": "stdout",
          "output_type": "stream",
          "text": [
            "loss: 24.517404556274414\n",
            "obeshenpor\n",
            "[23, 0, 17, 54, 59, 17, 32, 33, 44, 32]\n",
            "erikizouwi\n",
            "[44, 32, 51, 58, 51, 1, 23, 62, 33, 17]\n",
            "ucglalinyw\n",
            "[3, 56, 41, 0, 53, 0, 51, 1, 45, 33]\n",
            "cremrdisbi\n",
            "[1, 60, 36, 2, 32, 33, 10, 54, 16, 51]\n"
          ]
        },
        {
          "name": "stderr",
          "output_type": "stream",
          "text": [
            "  1%|▏         | 3/208 [00:00<00:19, 10.26it/s]"
          ]
        },
        {
          "name": "stdout",
          "output_type": "stream",
          "text": [
            "nerarmodom\n",
            "[58, 17, 32, 53, 32, 33, 44, 28, 23, 22]\n"
          ]
        },
        {
          "name": "stderr",
          "output_type": "stream",
          "text": [
            " 25%|██▍       | 51/208 [00:03<00:14, 11.01it/s]"
          ]
        },
        {
          "name": "stdout",
          "output_type": "stream",
          "text": [
            "loss: 24.678577423095703\n",
            "shlalicanb\n",
            "[54, 59, 6, 44, 58, 51, 1, 53, 56, 41]\n",
            "phitrormop\n",
            "[29, 60, 51, 48, 60, 44, 32, 22, 23, 29]\n",
            "troupormal\n",
            "[29, 60, 23, 62, 33, 17, 32, 22, 53, 0]\n",
            "periliLele\n",
            "[26, 17, 32, 36, 0, 51, 26, 17, 0, 17]\n",
            "wltriipiaB\n",
            "[33, 51, 48, 32, 51, 23, 22, 51, 23, 62]\n"
          ]
        },
        {
          "name": "stderr",
          "output_type": "stream",
          "text": [
            " 50%|████▉     | 103/208 [00:06<00:06, 15.42it/s]"
          ]
        },
        {
          "name": "stdout",
          "output_type": "stream",
          "text": [
            "loss: 23.975370407104492\n",
            "edanablres\n",
            "[17, 32, 53, 56, 53, 16, 0, 6, 10, 22]\n",
            "glypqustag\n",
            "[41, 6, 45, 27, 61, 42, 54, 20, 44, 8]\n",
            "dnRlidante\n",
            "[35, 58, 53, 0, 51, 58, 53, 56, 48, 17]\n",
            "amtaprites\n",
            "[44, 27, 29, 44, 29, 60, 44, 48, 17, 22]\n",
            "unecoshour\n",
            "[3, 56, 17, 48, 36, 54, 59, 23, 62, 54]\n"
          ]
        },
        {
          "name": "stderr",
          "output_type": "stream",
          "text": [
            " 74%|███████▎  | 153/208 [00:09<00:03, 15.64it/s]"
          ]
        },
        {
          "name": "stdout",
          "output_type": "stream",
          "text": [
            "loss: 24.077823638916016\n",
            "muparafbli\n",
            "[26, 42, 29, 44, 32, 44, 36, 18, 0, 51]\n",
            "reuokessic\n",
            "[60, 17, 44, 35, 58, 17, 54, 54, 51, 1]\n",
            "cerinuVtob\n",
            "[33, 17, 32, 51, 58, 42, 18, 20, 17, 41]\n",
            "trinotosme\n",
            "[29, 60, 44, 56, 44, 29, 44, 54, 22, 17]\n",
            "sprerityjt\n",
            "[54, 29, 60, 17, 32, 51, 48, 45, 31, 48]\n"
          ]
        },
        {
          "name": "stderr",
          "output_type": "stream",
          "text": [
            " 98%|█████████▊| 203/208 [00:13<00:00, 14.88it/s]"
          ]
        },
        {
          "name": "stdout",
          "output_type": "stream",
          "text": [
            "loss: 24.331140518188477\n",
            "dardeshesi\n",
            "[58, 53, 32, 41, 10, 54, 59, 10, 54, 51]\n",
            "sWlentlall\n",
            "[26, 53, 0, 17, 56, 48, 60, 44, 0, 0]\n",
            "SuaccistPo\n",
            "[26, 44, 3, 56, 58, 10, 54, 48, 60, 44]\n",
            "pylonimthi\n",
            "[29, 36, 0, 23, 56, 44, 27, 29, 60, 51]\n",
            "sispscascl\n",
            "[54, 10, 54, 29, 60, 48, 44, 54, 29, 51]\n"
          ]
        },
        {
          "name": "stderr",
          "output_type": "stream",
          "text": [
            "100%|██████████| 208/208 [00:13<00:00, 15.61it/s]\n"
          ]
        },
        {
          "name": "stdout",
          "output_type": "stream",
          "text": [
            "loss: 24.058752059936523\n",
            "ludatisodl\n",
            "[58, 17, 58, 53, 20, 51, 1, 23, 41, 6]\n",
            "========= Results: epoch 3 of 10 =========\n",
            "train loss: 24.16| valid loss: 24.01\n",
            "\n",
            "========= Epoch 4 of 10 =========\n"
          ]
        },
        {
          "name": "stderr",
          "output_type": "stream",
          "text": [
            "\r  0%|          | 0/208 [00:00<?, ?it/s]"
          ]
        },
        {
          "name": "stdout",
          "output_type": "stream",
          "text": [
            "loss: 24.063980102539062\n",
            "cantseoler\n",
            "[1, 53, 56, 10, 54, 17, 35, 58, 17, 33]\n"
          ]
        },
        {
          "name": "stderr",
          "output_type": "stream",
          "text": [
            "\r  0%|          | 1/208 [00:00<00:51,  4.03it/s]"
          ]
        },
        {
          "name": "stdout",
          "output_type": "stream",
          "text": [
            "cathyyliom\n",
            "[29, 44, 29, 60, 45, 45, 0, 51, 23, 22]\n",
            "unersenati\n",
            "[3, 56, 17, 32, 33, 17, 56, 53, 20, 51]\n",
            "bielggWanc\n",
            "[26, 51, 17, 56, 8, 8, 49, 53, 56, 48]\n",
            "\n",
            "ltisuatea\n",
            "[19, 45, 20, 51, 48, 42, 53, 20, 51, 53]\n"
          ]
        },
        {
          "name": "stderr",
          "output_type": "stream",
          "text": [
            " 25%|██▌       | 53/208 [00:03<00:09, 16.08it/s]"
          ]
        },
        {
          "name": "stdout",
          "output_type": "stream",
          "text": [
            "loss: 23.91845703125\n",
            "pineshmomi\n",
            "[29, 44, 56, 10, 54, 59, 2, 23, 27, 51]\n",
            "congeniisi\n",
            "[1, 23, 56, 8, 17, 56, 51, 53, 20, 51]\n",
            "sesstendee\n",
            "[26, 10, 54, 54, 48, 17, 35, 58, 17, 18]\n",
            "diraminnur\n",
            "[41, 44, 6, 44, 22, 23, 56, 48, 42, 33]\n",
            "acicatodre\n",
            "[3, 56, 51, 1, 53, 20, 17, 32, 33, 17]\n"
          ]
        },
        {
          "name": "stderr",
          "output_type": "stream",
          "text": [
            " 50%|████▉     | 103/208 [00:06<00:06, 15.41it/s]"
          ]
        },
        {
          "name": "stdout",
          "output_type": "stream",
          "text": [
            "loss: 24.146703720092773\n",
            "stenacogli\n",
            "[54, 20, 17, 56, 44, 1, 23, 8, 6, 51]\n",
            "aneshivalo\n",
            "[3, 56, 10, 54, 59, 51, 58, 53, 0, 53]\n",
            "omatiparis\n",
            "[44, 22, 53, 20, 51, 1, 53, 56, 10, 54]\n",
            "hensariLel\n",
            "[19, 17, 56, 48, 53, 32, 51, 1, 53, 0]\n",
            "Mormableal\n",
            "[26, 44, 32, 22, 53, 43, 0, 51, 53, 0]\n"
          ]
        },
        {
          "name": "stderr",
          "output_type": "stream",
          "text": [
            " 74%|███████▎  | 153/208 [00:09<00:03, 15.20it/s]"
          ]
        },
        {
          "name": "stdout",
          "output_type": "stream",
          "text": [
            "loss: 23.95726776123047\n",
            "unvealeoso\n",
            "[3, 56, 58, 17, 53, 0, 17, 44, 22, 44]\n",
            "pilllpioko\n",
            "[29, 36, 0, 0, 0, 20, 51, 23, 6, 44]\n",
            "penetichya\n",
            "[33, 17, 56, 53, 20, 51, 48, 59, 47, 53]\n",
            "sinsestupe\n",
            "[26, 23, 56, 48, 44, 54, 48, 42, 33, 17]\n",
            "bostergrob\n",
            "[41, 44, 54, 48, 17, 32, 41, 6, 17, 31]\n"
          ]
        },
        {
          "name": "stderr",
          "output_type": "stream",
          "text": [
            " 97%|█████████▋| 201/208 [00:12<00:00, 12.36it/s]"
          ]
        },
        {
          "name": "stdout",
          "output_type": "stream",
          "text": [
            "loss: 23.787620544433594\n",
            "thigiousst\n",
            "[29, 60, 44, 8, 51, 23, 62, 54, 54, 48]\n",
            "ungualdeni\n",
            "[3, 56, 8, 42, 53, 0, 58, 17, 56, 51]\n",
            "befilticyr\n",
            "[26, 44, 21, 10, 18, 48, 51, 1, 45, 33]\n",
            "igenedceti\n",
            "[44, 8, 17, 58, 17, 32, 1, 53, 20, 51]\n",
            "dnuurespos\n",
            "[41, 6, 42, 30, 6, 10, 54, 22, 51, 54]\n"
          ]
        },
        {
          "name": "stderr",
          "output_type": "stream",
          "text": [
            "100%|██████████| 208/208 [00:13<00:00, 15.52it/s]\n"
          ]
        },
        {
          "name": "stdout",
          "output_type": "stream",
          "text": [
            "loss: 23.80683135986328\n",
            "ogalusesui\n",
            "[23, 8, 53, 0, 40, 22, 17, 2, 42, 51]\n",
            "========= Results: epoch 4 of 10 =========\n",
            "train loss: 23.86| valid loss: 23.81\n",
            "\n",
            "========= Epoch 5 of 10 =========\n"
          ]
        },
        {
          "name": "stderr",
          "output_type": "stream",
          "text": [
            "\r  0%|          | 0/208 [00:00<?, ?it/s]"
          ]
        },
        {
          "name": "stdout",
          "output_type": "stream",
          "text": [
            "loss: 23.948991775512695\n",
            "densuoneon\n",
            "[33, 17, 56, 2, 42, 35, 58, 17, 23, 56]\n"
          ]
        },
        {
          "name": "stderr",
          "output_type": "stream",
          "text": [
            "  1%|▏         | 3/208 [00:00<00:21,  9.35it/s]"
          ]
        },
        {
          "name": "stdout",
          "output_type": "stream",
          "text": [
            "upproyepha\n",
            "[3, 27, 29, 60, 23, 52, 17, 29, 60, 53]\n",
            "criontates\n",
            "[29, 6, 51, 23, 56, 48, 53, 20, 17, 54]\n",
            "sualidolli\n",
            "[41, 42, 53, 0, 51, 58, 17, 0, 0, 51]\n",
            "frarsometi\n",
            "[41, 6, 44, 32, 22, 44, 22, 53, 20, 51]\n"
          ]
        },
        {
          "name": "stderr",
          "output_type": "stream",
          "text": [
            " 25%|██▌       | 53/208 [00:03<00:09, 15.89it/s]"
          ]
        },
        {
          "name": "stdout",
          "output_type": "stream",
          "text": [
            "loss: 23.704809188842773\n",
            "mouspolion\n",
            "[50, 23, 62, 54, 29, 36, 0, 51, 23, 56]\n",
            "ptytikider\n",
            "[29, 60, 45, 20, 51, 48, 51, 58, 17, 32]\n",
            "aneteaeage\n",
            "[3, 56, 10, 48, 17, 58, 17, 44, 8, 17]\n",
            "couscechea\n",
            "[1, 23, 62, 54, 48, 44, 29, 60, 17, 53]\n",
            "phocraciri\n",
            "[29, 60, 44, 29, 60, 44, 48, 44, 32, 51]\n"
          ]
        },
        {
          "name": "stderr",
          "output_type": "stream",
          "text": [
            " 50%|████▉     | 103/208 [00:06<00:06, 15.06it/s]"
          ]
        },
        {
          "name": "stdout",
          "output_type": "stream",
          "text": [
            "loss: 23.408023834228516\n",
            "juweraYizm\n",
            "[55, 42, 33, 17, 32, 53, 20, 51, 23, 22]\n",
            "\n",
            "ubermovem\n",
            "[55, 42, 30, 17, 32, 22, 44, 58, 17, 33]\n",
            "unqurrated\n",
            "[3, 56, 61, 42, 32, 6, 10, 20, 35, 58]\n",
            "unycayeryp\n",
            "[3, 56, 45, 1, 53, 52, 17, 32, 45, 29]\n",
            "wropramaxa\n",
            "[26, 6, 44, 29, 60, 44, 22, 53, 56, 53]\n"
          ]
        },
        {
          "name": "stderr",
          "output_type": "stream",
          "text": [
            " 74%|███████▎  | 153/208 [00:09<00:03, 15.16it/s]"
          ]
        },
        {
          "name": "stdout",
          "output_type": "stream",
          "text": [
            "loss: 23.74091911315918\n",
            "Nemioprill\n",
            "[26, 17, 22, 51, 23, 29, 60, 51, 0, 0]\n",
            "chedperful\n",
            "[1, 60, 17, 32, 22, 17, 32, 21, 36, 0]\n",
            "nontildere\n",
            "[50, 23, 56, 48, 44, 0, 58, 17, 32, 17]\n",
            "mouliorami\n",
            "[26, 44, 36, 0, 51, 23, 6, 44, 22, 51]\n",
            "Sotrispcan\n",
            "[26, 44, 48, 6, 10, 54, 29, 57, 53, 56]\n"
          ]
        },
        {
          "name": "stderr",
          "output_type": "stream",
          "text": [
            " 98%|█████████▊| 203/208 [00:12<00:00, 13.92it/s]"
          ]
        },
        {
          "name": "stdout",
          "output_type": "stream",
          "text": [
            "loss: 23.572647094726562\n",
            "prartenkap\n",
            "[26, 60, 44, 32, 48, 17, 56, 41, 44, 29]\n",
            "baateralll\n",
            "[34, 6, 44, 48, 17, 32, 53, 0, 0, 0]\n",
            "parontiogn\n",
            "[29, 44, 32, 23, 56, 20, 51, 23, 8, 56]\n",
            "dochuFrcos\n",
            "[33, 44, 29, 60, 42, 38, 32, 1, 36, 54]\n",
            "bitorindlo\n",
            "[26, 44, 29, 36, 32, 51, 56, 41, 0, 23]\n"
          ]
        },
        {
          "name": "stderr",
          "output_type": "stream",
          "text": [
            "100%|██████████| 208/208 [00:13<00:00, 15.75it/s]\n"
          ]
        },
        {
          "name": "stdout",
          "output_type": "stream",
          "text": [
            "loss: 23.692394256591797\n",
            "conemitumb\n",
            "[50, 23, 56, 10, 22, 51, 48, 42, 27, 34]\n",
            "========= Results: epoch 5 of 10 =========\n",
            "train loss: 23.70| valid loss: 23.68\n",
            "\n",
            "========= Epoch 6 of 10 =========\n"
          ]
        },
        {
          "name": "stderr",
          "output_type": "stream",
          "text": [
            "  0%|          | 1/208 [00:00<00:39,  5.26it/s]"
          ]
        },
        {
          "name": "stdout",
          "output_type": "stream",
          "text": [
            "loss: 23.91607666015625\n",
            "hykednabov\n",
            "[19, 45, 57, 17, 32, 58, 53, 43, 36, 0]\n",
            "mipiproram\n",
            "[26, 44, 29, 44, 29, 60, 44, 32, 44, 22]\n",
            "pordtasesi\n",
            "[33, 17, 32, 58, 12, 53, 56, 10, 22, 10]\n",
            "sopbestori\n",
            "[26, 44, 27, 11, 17, 54, 48, 44, 32, 51]\n",
            "mechotaedi\n",
            "[33, 10, 48, 59, 44, 29, 44, 35, 41, 51]\n"
          ]
        },
        {
          "name": "stderr",
          "output_type": "stream",
          "text": [
            " 25%|██▌       | 53/208 [00:03<00:09, 15.61it/s]"
          ]
        },
        {
          "name": "stdout",
          "output_type": "stream",
          "text": [
            "loss: 23.307058334350586\n",
            "cokeraulor\n",
            "[29, 44, 58, 17, 32, 44, 36, 0, 44, 32]\n",
            "maudenglyi\n",
            "[33, 44, 35, 41, 17, 56, 8, 0, 45, 10]\n",
            "intaphimon\n",
            "[3, 56, 48, 44, 29, 60, 10, 22, 23, 56]\n",
            "ousmophiqu\n",
            "[23, 62, 54, 22, 44, 29, 60, 51, 55, 42]\n",
            "trioticona\n",
            "[26, 6, 44, 18, 48, 51, 1, 23, 56, 53]\n"
          ]
        },
        {
          "name": "stderr",
          "output_type": "stream",
          "text": [
            " 50%|████▉     | 103/208 [00:06<00:06, 15.89it/s]"
          ]
        },
        {
          "name": "stdout",
          "output_type": "stream",
          "text": [
            "loss: 23.625816345214844\n",
            "rissphedeo\n",
            "[33, 10, 54, 54, 29, 60, 44, 58, 17, 44]\n",
            "Oiseperali\n",
            "[29, 3, 48, 51, 29, 17, 32, 53, 0, 51]\n",
            "Cuhtefased\n",
            "[26, 62, 4, 20, 17, 41, 44, 22, 17, 58]\n",
            "axtioutine\n",
            "[3, 56, 48, 51, 23, 62, 48, 53, 56, 10]\n",
            "ancritacap\n",
            "[3, 56, 48, 6, 10, 48, 44, 29, 44, 29]\n"
          ]
        },
        {
          "name": "stderr",
          "output_type": "stream",
          "text": [
            " 73%|███████▎  | 151/208 [00:09<00:04, 12.24it/s]"
          ]
        },
        {
          "name": "stdout",
          "output_type": "stream",
          "text": [
            "loss: 23.473098754882812\n",
            "otatenzeya\n",
            "[44, 29, 44, 29, 17, 56, 58, 17, 52, 53]\n",
            "afordekuma\n",
            "[35, 41, 36, 32, 41, 10, 48, 40, 22, 44]\n",
            "unucollyph\n",
            "[3, 56, 42, 29, 36, 0, 0, 45, 29, 60]\n",
            "frelopopor\n",
            "[26, 6, 10, 6, 44, 29, 44, 29, 17, 32]\n",
            "insatousso\n",
            "[3, 56, 48, 53, 20, 23, 62, 54, 22, 23]\n"
          ]
        },
        {
          "name": "stderr",
          "output_type": "stream",
          "text": [
            " 98%|█████████▊| 203/208 [00:12<00:00, 15.10it/s]"
          ]
        },
        {
          "name": "stdout",
          "output_type": "stream",
          "text": [
            "loss: 23.438913345336914\n",
            "umnactogit\n",
            "[3, 27, 22, 53, 18, 48, 44, 8, 51, 48]\n",
            "ingricrema\n",
            "[3, 56, 8, 6, 51, 48, 60, 44, 5, 53]\n",
            "eniomuondr\n",
            "[44, 58, 51, 23, 27, 51, 23, 56, 41, 6]\n",
            "tlaetialyc\n",
            "[29, 6, 44, 18, 48, 51, 53, 0, 45, 46]\n",
            "plinthecti\n",
            "[34, 6, 10, 56, 48, 60, 17, 18, 48, 51]\n"
          ]
        },
        {
          "name": "stderr",
          "output_type": "stream",
          "text": [
            "100%|██████████| 208/208 [00:13<00:00, 15.73it/s]\n"
          ]
        },
        {
          "name": "stdout",
          "output_type": "stream",
          "text": [
            "loss: 23.473918914794922\n",
            "pulenbopro\n",
            "[26, 36, 0, 23, 56, 33, 44, 29, 60, 44]\n",
            "========= Results: epoch 6 of 10 =========\n",
            "train loss: 23.59| valid loss: 23.59\n",
            "\n",
            "========= Epoch 7 of 10 =========\n"
          ]
        },
        {
          "name": "stderr",
          "output_type": "stream",
          "text": [
            "\r  0%|          | 0/208 [00:00<?, ?it/s]"
          ]
        },
        {
          "name": "stdout",
          "output_type": "stream",
          "text": [
            "loss: 23.52134132385254\n",
            "Kydooershm\n",
            "[26, 45, 41, 6, 44, 17, 32, 54, 59, 5]\n",
            "entatherio\n",
            "[3, 56, 48, 53, 20, 60, 17, 32, 51, 23]\n",
            "Caniverala\n",
            "[26, 53, 56, 51, 58, 17, 32, 53, 0, 53]\n",
            "Crotorstym\n",
            "[26, 6, 44, 29, 44, 32, 54, 48, 45, 22]\n"
          ]
        },
        {
          "name": "stderr",
          "output_type": "stream",
          "text": [
            "  1%|▏         | 3/208 [00:00<00:20,  9.92it/s]"
          ]
        },
        {
          "name": "stdout",
          "output_type": "stream",
          "text": [
            "unclatoion\n",
            "[3, 56, 29, 6, 53, 20, 44, 51, 23, 56]\n"
          ]
        },
        {
          "name": "stderr",
          "output_type": "stream",
          "text": [
            " 25%|██▌       | 53/208 [00:03<00:10, 15.38it/s]"
          ]
        },
        {
          "name": "stdout",
          "output_type": "stream",
          "text": [
            "loss: 23.573421478271484\n",
            "wilcazdord\n",
            "[33, 44, 18, 20, 44, 35, 41, 44, 32, 41]\n",
            "churtintod\n",
            "[29, 60, 36, 32, 20, 51, 56, 48, 17, 41]\n",
            "Maotwobroc\n",
            "[26, 44, 36, 48, 59, 44, 11, 6, 44, 48]\n",
            "ushaimimtr\n",
            "[3, 54, 59, 44, 3, 13, 3, 27, 29, 6]\n",
            "odcwecsebi\n",
            "[44, 32, 46, 59, 17, 18, 48, 44, 11, 51]\n"
          ]
        },
        {
          "name": "stderr",
          "output_type": "stream",
          "text": [
            " 50%|████▉     | 103/208 [00:06<00:06, 15.24it/s]"
          ]
        },
        {
          "name": "stdout",
          "output_type": "stream",
          "text": [
            "loss: 23.43610191345215\n",
            "mantrinbar\n",
            "[13, 23, 56, 48, 60, 51, 56, 63, 53, 32]\n",
            "pardopadud\n",
            "[29, 44, 32, 41, 44, 29, 44, 33, 10, 41]\n",
            "Cysscurraa\n",
            "[19, 45, 54, 54, 48, 36, 32, 6, 44, 35]\n",
            "vhillattho\n",
            "[26, 60, 36, 0, 0, 44, 18, 48, 60, 44]\n",
            "blitayeile\n",
            "[34, 6, 10, 48, 53, 52, 17, 44, 0, 10]\n"
          ]
        },
        {
          "name": "stderr",
          "output_type": "stream",
          "text": [
            " 74%|███████▎  | 153/208 [00:09<00:03, 13.85it/s]"
          ]
        },
        {
          "name": "stdout",
          "output_type": "stream",
          "text": [
            "loss: 23.624982833862305\n",
            "corercwaly\n",
            "[26, 36, 32, 22, 51, 1, 47, 53, 0, 45]\n",
            "suesucucso\n",
            "[2, 42, 10, 54, 42, 33, 10, 18, 48, 23]\n",
            "aclyniapoi\n",
            "[53, 20, 0, 45, 56, 51, 23, 29, 44, 32]\n",
            "baticceddo\n",
            "[26, 53, 20, 44, 18, 48, 17, 35, 41, 44]\n",
            "aspatchiog\n",
            "[44, 54, 22, 53, 32, 46, 59, 51, 23, 8]\n"
          ]
        },
        {
          "name": "stderr",
          "output_type": "stream",
          "text": [
            " 98%|█████████▊| 203/208 [00:13<00:00, 14.97it/s]"
          ]
        },
        {
          "name": "stdout",
          "output_type": "stream",
          "text": [
            "loss: 23.65166473388672\n",
            "brovalysss\n",
            "[34, 6, 44, 58, 53, 0, 45, 54, 54, 48]\n",
            "datheromru\n",
            "[41, 44, 46, 59, 7, 6, 44, 27, 2, 42]\n",
            "meccoyantr\n",
            "[33, 10, 18, 20, 36, 12, 53, 56, 48, 6]\n",
            "etchterata\n",
            "[3, 27, 29, 4, 48, 17, 32, 53, 20, 53]\n",
            "apylisnica\n",
            "[44, 29, 36, 0, 51, 54, 22, 10, 48, 53]\n"
          ]
        },
        {
          "name": "stderr",
          "output_type": "stream",
          "text": [
            "100%|██████████| 208/208 [00:13<00:00, 15.65it/s]\n"
          ]
        },
        {
          "name": "stdout",
          "output_type": "stream",
          "text": [
            "loss: 23.379825592041016\n",
            "iddirmousc\n",
            "[44, 35, 41, 36, 32, 22, 23, 62, 54, 48]\n",
            "========= Results: epoch 7 of 10 =========\n",
            "train loss: 23.49| valid loss: 23.49\n",
            "\n",
            "========= Epoch 8 of 10 =========\n"
          ]
        },
        {
          "name": "stderr",
          "output_type": "stream",
          "text": [
            "\r  0%|          | 0/208 [00:00<?, ?it/s]"
          ]
        },
        {
          "name": "stdout",
          "output_type": "stream",
          "text": [
            "loss: 23.208723068237305\n",
            "oodentivat\n",
            "[44, 35, 41, 10, 56, 48, 51, 58, 53, 20]\n",
            "reiliscrac\n",
            "[33, 44, 36, 0, 10, 54, 48, 6, 44, 18]\n",
            "cadartosyg\n",
            "[26, 44, 58, 53, 32, 20, 23, 19, 45, 8]\n",
            "dedicatisy\n",
            "[33, 10, 41, 51, 1, 53, 20, 51, 19, 45]\n"
          ]
        },
        {
          "name": "stderr",
          "output_type": "stream",
          "text": [
            "  1%|▏         | 3/208 [00:00<00:20, 10.04it/s]"
          ]
        },
        {
          "name": "stdout",
          "output_type": "stream",
          "text": [
            "Mnenamolyg\n",
            "[26, 6, 10, 56, 44, 13, 36, 0, 45, 8]\n"
          ]
        },
        {
          "name": "stderr",
          "output_type": "stream",
          "text": [
            " 25%|██▌       | 53/208 [00:03<00:10, 14.58it/s]"
          ]
        },
        {
          "name": "stdout",
          "output_type": "stream",
          "text": [
            "loss: 23.38774299621582\n",
            "eacatericw\n",
            "[17, 53, 1, 53, 20, 17, 32, 44, 46, 59]\n",
            "rapilllleb\n",
            "[33, 44, 29, 36, 0, 0, 0, 0, 44, 11]\n",
            "Rashlerynl\n",
            "[26, 44, 54, 59, 0, 17, 32, 45, 56, 0]\n",
            "trainalode\n",
            "[26, 6, 44, 51, 1, 53, 0, 44, 58, 17]\n",
            "dococedder\n",
            "[33, 44, 50, 23, 48, 17, 32, 33, 17, 32]\n"
          ]
        },
        {
          "name": "stderr",
          "output_type": "stream",
          "text": [
            " 49%|████▊     | 101/208 [00:06<00:09, 11.06it/s]"
          ]
        },
        {
          "name": "stdout",
          "output_type": "stream",
          "text": [
            "loss: 23.241878509521484\n",
            "Aablaphomc\n",
            "[5, 53, 43, 0, 44, 29, 60, 44, 27, 29]\n",
            "ethisxeleo\n",
            "[44, 48, 59, 51, 54, 48, 17, 0, 10, 35]\n",
            "phorinever\n",
            "[29, 60, 36, 32, 51, 58, 10, 58, 17, 32]\n",
            "anissuinab\n",
            "[3, 56, 10, 54, 2, 42, 51, 58, 53, 16]\n",
            "anialeescy\n",
            "[3, 56, 10, 53, 56, 10, 44, 54, 48, 45]\n"
          ]
        },
        {
          "name": "stderr",
          "output_type": "stream",
          "text": [
            " 74%|███████▎  | 153/208 [00:10<00:03, 14.81it/s]"
          ]
        },
        {
          "name": "stdout",
          "output_type": "stream",
          "text": [
            "loss: 23.327198028564453\n",
            "Crextasame\n",
            "[26, 6, 10, 56, 48, 53, 54, 44, 33, 44]\n",
            "scylenonec\n",
            "[54, 48, 45, 0, 44, 22, 51, 58, 10, 48]\n",
            "bosonceabl\n",
            "[26, 44, 22, 23, 56, 48, 17, 53, 43, 0]\n",
            "stanguecte\n",
            "[54, 48, 53, 56, 8, 42, 10, 18, 20, 17]\n",
            "nontrythiz\n",
            "[50, 23, 56, 48, 6, 45, 46, 59, 51, 1]\n"
          ]
        },
        {
          "name": "stderr",
          "output_type": "stream",
          "text": [
            " 98%|█████████▊| 203/208 [00:13<00:00, 15.13it/s]"
          ]
        },
        {
          "name": "stdout",
          "output_type": "stream",
          "text": [
            "loss: 23.52621841430664\n",
            "pemtlanoph\n",
            "[26, 44, 27, 29, 60, 53, 56, 44, 29, 60]\n",
            "dorytealer\n",
            "[41, 44, 32, 45, 20, 17, 53, 0, 17, 32]\n",
            "sinteriqub\n",
            "[54, 10, 56, 48, 17, 32, 44, 55, 42, 39]\n",
            "triiderall\n",
            "[26, 6, 44, 35, 41, 17, 32, 53, 0, 0]\n",
            "hynatitifo\n",
            "[19, 45, 56, 53, 20, 51, 20, 51, 21, 44]\n"
          ]
        },
        {
          "name": "stderr",
          "output_type": "stream",
          "text": [
            "100%|██████████| 208/208 [00:13<00:00, 15.08it/s]\n"
          ]
        },
        {
          "name": "stdout",
          "output_type": "stream",
          "text": [
            "loss: 23.43899917602539\n",
            "baloustici\n",
            "[26, 53, 0, 23, 62, 54, 48, 51, 1, 51]\n",
            "========= Results: epoch 8 of 10 =========\n",
            "train loss: 23.40| valid loss: 23.41\n",
            "\n",
            "========= Epoch 9 of 10 =========\n"
          ]
        },
        {
          "name": "stderr",
          "output_type": "stream",
          "text": [
            "  0%|          | 1/208 [00:00<00:39,  5.20it/s]"
          ]
        },
        {
          "name": "stdout",
          "output_type": "stream",
          "text": [
            "loss: 23.411701202392578\n",
            "undermeste\n",
            "[3, 56, 41, 17, 32, 22, 10, 54, 20, 17]\n",
            "amirenderi\n",
            "[44, 13, 36, 32, 10, 56, 58, 17, 32, 51]\n",
            "sidrigisth\n",
            "[26, 10, 41, 6, 10, 8, 10, 54, 48, 59]\n",
            "taligative\n",
            "[48, 53, 0, 10, 39, 53, 20, 51, 58, 17]\n",
            "ssicalonal\n",
            "[54, 22, 51, 1, 53, 32, 23, 56, 53, 0]\n"
          ]
        },
        {
          "name": "stderr",
          "output_type": "stream",
          "text": [
            " 25%|██▌       | 53/208 [00:03<00:10, 14.85it/s]"
          ]
        },
        {
          "name": "stdout",
          "output_type": "stream",
          "text": [
            "loss: 23.181900024414062\n",
            "refytrasse\n",
            "[33, 44, 21, 36, 48, 6, 44, 54, 22, 17]\n",
            "jeesartyst\n",
            "[33, 10, 44, 22, 53, 32, 20, 45, 54, 48]\n",
            "dathlerico\n",
            "[33, 44, 29, 60, 6, 44, 32, 51, 1, 23]\n",
            "phenwaomme\n",
            "[29, 60, 17, 56, 15, 38, 44, 27, 22, 10]\n",
            "Moscylyant\n",
            "[26, 44, 54, 20, 36, 0, 45, 53, 56, 48]\n"
          ]
        },
        {
          "name": "stderr",
          "output_type": "stream",
          "text": [
            " 50%|████▉     | 103/208 [00:06<00:07, 13.63it/s]"
          ]
        },
        {
          "name": "stdout",
          "output_type": "stream",
          "text": [
            "loss: 23.091135025024414\n",
            "esericalle\n",
            "[44, 54, 17, 32, 51, 1, 53, 0, 0, 17]\n",
            "neflalllix\n",
            "[58, 10, 21, 6, 53, 0, 0, 0, 10, 27]\n",
            "shramicall\n",
            "[54, 59, 6, 44, 27, 51, 1, 53, 0, 0]\n",
            "aadtoadutt\n",
            "[44, 35, 41, 60, 38, 35, 41, 42, 18, 48]\n",
            "tectelvend\n",
            "[26, 17, 18, 48, 17, 0, 58, 17, 56, 41]\n"
          ]
        },
        {
          "name": "stderr",
          "output_type": "stream",
          "text": [
            " 74%|███████▎  | 153/208 [00:09<00:03, 15.63it/s]"
          ]
        },
        {
          "name": "stdout",
          "output_type": "stream",
          "text": [
            "loss: 23.137086868286133\n",
            "mubbraspir\n",
            "[2, 42, 30, 11, 6, 44, 54, 22, 36, 32]\n",
            "unvendlone\n",
            "[3, 56, 33, 10, 56, 41, 6, 44, 58, 17]\n",
            "aeativuabl\n",
            "[53, 17, 53, 20, 51, 58, 10, 53, 43, 0]\n",
            "jawbiterdf\n",
            "[33, 44, 15, 31, 36, 48, 17, 32, 41, 21]\n",
            "Eenodisles\n",
            "[26, 10, 56, 44, 9, 51, 54, 0, 10, 54]\n"
          ]
        },
        {
          "name": "stderr",
          "output_type": "stream",
          "text": [
            " 98%|█████████▊| 203/208 [00:12<00:00, 15.44it/s]"
          ]
        },
        {
          "name": "stdout",
          "output_type": "stream",
          "text": [
            "loss: 23.501678466796875\n",
            "odatizinio\n",
            "[44, 58, 53, 20, 51, 58, 10, 56, 51, 23]\n",
            "upinylessy\n",
            "[3, 27, 51, 56, 7, 0, 10, 54, 48, 45]\n",
            "Saumpaidri\n",
            "[26, 44, 3, 27, 34, 38, 35, 41, 6, 10]\n",
            "Srechorouc\n",
            "[26, 6, 10, 48, 59, 44, 32, 44, 18, 20]\n",
            "saficallyc\n",
            "[33, 44, 21, 51, 1, 53, 0, 0, 45, 46]\n"
          ]
        },
        {
          "name": "stderr",
          "output_type": "stream",
          "text": [
            "100%|██████████| 208/208 [00:13<00:00, 15.72it/s]\n"
          ]
        },
        {
          "name": "stdout",
          "output_type": "stream",
          "text": [
            "loss: 23.398937225341797\n",
            "asteanolks\n",
            "[44, 18, 20, 17, 53, 56, 44, 18, 57, 54]\n",
            "========= Results: epoch 9 of 10 =========\n",
            "train loss: 23.34| valid loss: 23.37\n",
            "\n",
            "========= Epoch 10 of 10 =========\n"
          ]
        },
        {
          "name": "stderr",
          "output_type": "stream",
          "text": [
            "\r  0%|          | 0/208 [00:00<?, ?it/s]"
          ]
        },
        {
          "name": "stdout",
          "output_type": "stream",
          "text": [
            "loss: 23.38336181640625\n",
            "intisseztr\n",
            "[3, 56, 20, 51, 54, 22, 44, 35, 20, 6]\n",
            "malbanocha\n",
            "[5, 53, 0, 63, 53, 56, 44, 29, 60, 38]\n",
            "bilalletog\n",
            "[33, 10, 0, 53, 0, 0, 10, 48, 36, 8]\n",
            "impilllati\n",
            "[44, 27, 34, 36, 0, 0, 0, 53, 20, 51]\n"
          ]
        },
        {
          "name": "stderr",
          "output_type": "stream",
          "text": [
            "  1%|▏         | 3/208 [00:00<00:19, 10.55it/s]"
          ]
        },
        {
          "name": "stdout",
          "output_type": "stream",
          "text": [
            "pationsoud\n",
            "[34, 53, 20, 51, 23, 56, 48, 44, 35, 41]\n"
          ]
        },
        {
          "name": "stderr",
          "output_type": "stream",
          "text": [
            " 25%|██▌       | 53/208 [00:03<00:10, 15.09it/s]"
          ]
        },
        {
          "name": "stdout",
          "output_type": "stream",
          "text": [
            "loss: 23.556167602539062\n",
            "mansiceson\n",
            "[5, 53, 56, 22, 10, 48, 17, 22, 23, 56]\n",
            "Pightatida\n",
            "[26, 10, 24, 4, 48, 53, 20, 51, 1, 53]\n",
            "bantactant\n",
            "[33, 3, 56, 48, 44, 18, 48, 53, 56, 48]\n",
            "gedletioun\n",
            "[26, 17, 41, 0, 10, 48, 51, 23, 62, 56]\n",
            "japocriden\n",
            "[33, 44, 29, 44, 48, 6, 44, 58, 17, 56]\n"
          ]
        },
        {
          "name": "stderr",
          "output_type": "stream",
          "text": [
            " 50%|████▉     | 103/208 [00:06<00:07, 13.70it/s]"
          ]
        },
        {
          "name": "stdout",
          "output_type": "stream",
          "text": [
            "loss: 23.477420806884766\n",
            "Onialifirm\n",
            "[3, 56, 51, 53, 0, 10, 21, 36, 32, 13]\n",
            "tlemypophy\n",
            "[26, 6, 44, 27, 45, 29, 44, 29, 60, 45]\n",
            "iniatiphon\n",
            "[3, 56, 51, 53, 20, 51, 29, 60, 23, 56]\n",
            "hylehautri\n",
            "[19, 45, 0, 44, 33, 44, 18, 20, 6, 51]\n",
            "ihinchlysp\n",
            "[3, 33, 10, 56, 46, 59, 6, 52, 54, 34]\n"
          ]
        },
        {
          "name": "stderr",
          "output_type": "stream",
          "text": [
            " 74%|███████▎  | 153/208 [00:10<00:03, 15.24it/s]"
          ]
        },
        {
          "name": "stdout",
          "output_type": "stream",
          "text": [
            "loss: 23.083168029785156\n",
            "stertistis\n",
            "[54, 48, 17, 32, 58, 51, 54, 48, 36, 54]\n",
            "unflidarph\n",
            "[3, 56, 21, 0, 51, 1, 53, 32, 29, 60]\n",
            "noninstrap\n",
            "[50, 23, 56, 10, 56, 54, 48, 6, 44, 5]\n",
            "Anetticcer\n",
            "[3, 56, 10, 18, 48, 36, 18, 20, 17, 32]\n",
            "ceonterlag\n",
            "[50, 23, 23, 56, 48, 17, 32, 33, 44, 39]\n"
          ]
        },
        {
          "name": "stderr",
          "output_type": "stream",
          "text": [
            " 98%|█████████▊| 203/208 [00:13<00:00, 15.20it/s]"
          ]
        },
        {
          "name": "stdout",
          "output_type": "stream",
          "text": [
            "loss: 23.348907470703125\n",
            "morapcorad\n",
            "[13, 36, 32, 44, 29, 20, 36, 32, 44, 58]\n",
            "ralllewami\n",
            "[33, 44, 0, 0, 0, 10, 33, 44, 27, 51]\n",
            "sclaticabl\n",
            "[2, 29, 60, 53, 20, 51, 1, 53, 43, 0]\n",
            "nopeteomet\n",
            "[50, 23, 22, 10, 48, 17, 23, 13, 10, 48]\n",
            "idicoliavo\n",
            "[44, 33, 10, 48, 36, 0, 10, 44, 58, 36]\n"
          ]
        },
        {
          "name": "stderr",
          "output_type": "stream",
          "text": [
            "100%|██████████| 208/208 [00:13<00:00, 15.51it/s]\n"
          ]
        },
        {
          "name": "stdout",
          "output_type": "stream",
          "text": [
            "loss: 23.250343322753906\n",
            "nontlylyll\n",
            "[50, 23, 56, 48, 0, 45, 0, 45, 0, 0]\n",
            "========= Results: epoch 10 of 10 =========\n",
            "train loss: 23.30| valid loss: 23.33\n",
            "\n"
          ]
        }
      ],
      "source": [
        "# Initialize model\n",
        "model = HMM(N=64, M=M)\n",
        "\n",
        "# Train the model\n",
        "num_epochs = 10\n",
        "trainer = Trainer(model, lr=0.01)\n",
        "\n",
        "for epoch in range(num_epochs):\n",
        "        print(\"========= Epoch %d of %d =========\" % (epoch+1, num_epochs))\n",
        "        train_loss = trainer.train(train_dataset)\n",
        "        valid_loss = trainer.test(valid_dataset)\n",
        "\n",
        "        print(\"========= Results: epoch %d of %d =========\" % (epoch+1, num_epochs))\n",
        "        print(\"train loss: %.2f| valid loss: %.2f\\n\" % (train_loss, valid_loss) )"
      ]
    }
  ],
  "metadata": {
    "accelerator": "GPU",
    "colab": {
      "gpuType": "T4",
      "provenance": []
    },
    "kernelspec": {
      "display_name": "Python 3",
      "name": "python3"
    },
    "language_info": {
      "name": "python"
    }
  },
  "nbformat": 4,
  "nbformat_minor": 0
}
